{
 "cells": [
  {
   "cell_type": "code",
   "execution_count": 16,
   "metadata": {},
   "outputs": [],
   "source": [
    "import re\n",
    "import string\n",
    "import numpy as np\n",
    "import newspaper\n"
   ]
  },
  {
   "cell_type": "code",
   "execution_count": 25,
   "metadata": {},
   "outputs": [],
   "source": [
    "# Import required module\n",
    "\n",
    "\n",
    "# Assign url\n",
    "urls = ['https://www.ibm.com/in-en/topics/machine-learning',\n",
    "        'https://www.google.com/url?sa=t&rct=j&q=&esrc=s&source=web&cd=&ved=2ahUKEwjI56vC3MH9AhUP8zgGHbryB0sQvOMEKAB6BAgOEAE&url=https%3A%2F%2Fwww.thehindu.com%2Fnews%2Finternational%2Fquad-foreign-ministers-take-aim-at-russia-and-china%2Farticle66577074.ece&usg=AOvVaw3G125a3AJkzEiMjMpC3Tt_',\n",
    "        'https://www.thehindu.com/news/national/better-infrastructure-has-put-remote-indian-villages-on-tourist-map-pm-modi/article66575058.ece',\n",
    "        'https://www.thehindu.com/sci-tech/health/avoid-antibiotics-for-seasonal-cold-and-cough-says-indian-medical-association-amid-rising-cases/article66579326.ece',\n",
    "        ]\n",
    "\n",
    "# Extract web data\n",
    "articles = []\n",
    "for url in urls:\n",
    "    article = newspaper.Article(url=\"%s\" % (url), language='en')\n",
    "    article.download()\n",
    "    article.parse()\n",
    "    articles.append({\n",
    "        'title': article.title,\n",
    "        'text': article.text,\n",
    "        #'link' : url\n",
    "    })\n",
    "\n",
    "# Display scrapped data\n",
    "#articles[0]\n"
   ]
  },
  {
   "cell_type": "code",
   "execution_count": 26,
   "metadata": {},
   "outputs": [
    {
     "name": "stdout",
     "output_type": "stream",
     "text": [
      "Synonyms of theft: ['break in', 'burglary', 'crime', 'embezzlement', 'extortion', 'fraud', 'heist', 'holdup', 'larceny', 'looting', 'mugging', 'piracy', 'robbery', 'shoplifting', 'thievery', 'vandalism', 'annexation', 'appropriation', 'caper', 'cheating', 'deprivation', 'grab', 'hustle', 'job', 'lift', 'peculation', 'pilferage', 'pillage', 'pinch', 'plunder', 'racket', 'rapacity', 'ripoff', 'score', 'snatch', 'snitch', 'steal', 'stickup', 'swindle', 'thieving', 'touch', 'defrauding', 'pilfering', 'purloining', 'robbing', 'swindling']\n"
     ]
    }
   ],
   "source": [
    "\n",
    "import requests\n",
    "from bs4 import BeautifulSoup\n",
    "\n",
    "input_words = ['atm', 'Machine Learning', 'theft', 'party']\n",
    "word = 'theft'\n",
    "url = f'https://www.thesaurus.com/browse/{word}'\n",
    "\n",
    "response = requests.get(url)\n",
    "soup = BeautifulSoup(response.text, 'html.parser')\n",
    "\n",
    "synonyms_div = soup.find('ul', {'class': 'css-x6mqrn e1ccqdb60'})#css-1kg1yv8 eh475bn0 css-1wgnrap e1ccqdb60 css-ttoca5 e1ccqdb60\n",
    "synonyms_list = synonyms_div.find_all('a')\n",
    "synonyms = [s.text.strip() for s in synonyms_list]#.find_all('a')]\n",
    "\n",
    "print(f\"Synonyms of {word}: {synonyms}\")"
   ]
  },
  {
   "cell_type": "code",
   "execution_count": 27,
   "metadata": {},
   "outputs": [
    {
     "data": {
      "text/plain": [
       "[{'title': 'What is Machine Learning?',\n",
       "  'text': \"As machine learning technology has developed, it has certainly made our lives easier. However, implementing machine learning in businesses has also raised a number of ethical concerns about AI technologies. Some of these include:\\n\\nTechnological singularity\\n\\nWhile this topic garners a lot of public attention, many researchers are not concerned with the idea of AI surpassing human intelligence in the near future. Technological singularity is also referred to as strong AI or superintelligence. Philosopher Nick Bostrum defines superintelligence as “any intellect that vastly outperforms the best human brains in practically every field, including scientific creativity, general wisdom, and social skills.” Despite the fact that superintelligence is not imminent in society, the idea of it raises some interesting questions as we consider the use of autonomous systems, like self-driving cars. It’s unrealistic to think that a driverless car would never have an accident, but who is responsible and liable under those circumstances? Should we still develop autonomous vehicles, or do we limit this technology to semi-autonomous vehicles which help people drive safely? The jury is still out on this, but these are the types of ethical debates that are occurring as new, innovative AI technology develops.\\n\\nAI impact on jobs\\n\\nWhile a lot of public perception of artificial intelligence centers around job losses, this concern should probably be reframed. With every disruptive, new technology, we see that the market demand for specific job roles shifts. For example, when we look at the automotive industry, many manufacturers, like GM, are shifting to focus on electric vehicle production to align with green initiatives. The energy industry isn’t going away, but the source of energy is shifting from a fuel economy to an electric one.\\n\\nIn a similar way, artificial intelligence will shift the demand for jobs to other areas. There will need to be individuals to help manage AI systems. There will still need to be people to address more complex problems within the industries that are most likely to be affected by job demand shifts, such as customer service. The biggest challenge with artificial intelligence and its effect on the job market will be helping people to transition to new roles that are in demand.\\n\\nPrivacy\\n\\nPrivacy tends to be discussed in the context of data privacy, data protection, and data security. These concerns have allowed policymakers to make more strides in recent years. For example, in 2016, GDPR legislation was created to protect the personal data of people in the European Union and European Economic Area, giving individuals more control of their data. In the United States, individual states are developing policies, such as the California Consumer Privacy Act (CCPA), which was introduced in 2018 and requires businesses to inform consumers about the collection of their data. Legislation such as this has forced companies to rethink how they store and use personally identifiable information (PII). As a result, investments in security have become an increasing priority for businesses as they seek to eliminate any vulnerabilities and opportunities for surveillance, hacking, and cyberattacks.\\n\\nBias and discrimination\\n\\nInstances of bias and discrimination across a number of machine learning systems have raised many ethical questions regarding the use of artificial intelligence. How can we safeguard against bias and discrimination when the training data itself may be generated by biased human processes? While companies typically have good intentions for their automation efforts, Reuters (link resides outside IBM) ) highlights some of the unforeseen consequences of incorporating AI into hiring practices. In their effort to automate and simplify a process, Amazon unintentionally discriminated against job candidates by gender for technical roles, and the company ultimately had to scrap the project. Harvard Business Review (link resides outside IBM) has raised other pointed questions about the use of AI in hiring practices, such as what data you should be able to use when evaluating a candidate for a role.\\n\\nBias and discrimination aren’t limited to the human resources function either; they can be found in a number of applications from facial recognition software to social media algorithms.\\n\\nAs businesses become more aware of the risks with AI, they’ve also become more active in this discussion around AI ethics and values. For example, IBM has sunset its general purpose facial recognition and analysis products. IBM CEO Arvind Krishna wrote: “IBM firmly opposes and will not condone uses of any technology, including facial recognition technology offered by other vendors, for mass surveillance, racial profiling, violations of basic human rights and freedoms, or any purpose which is not consistent with our values and Principles of Trust and Transparency.”\\n\\nAccountability\\n\\nSince there isn’t significant legislation to regulate AI practices, there is no real enforcement mechanism to ensure that ethical AI is practiced. The current incentives for companies to be ethical are the negative repercussions of an unethical AI system on the bottom line. To fill the gap, ethical frameworks have emerged as part of a collaboration between ethicists and researchers to govern the construction and distribution of AI models within society. However, at the moment, these only serve to guide. Some research (link resides outside IBM) (PDF, 1 MB) shows that the combination of distributed responsibility and a lack of foresight into potential consequences aren’t conducive to preventing harm to society.\\n\\nRead more about IBM's position on AI Ethics.\"},\n",
       " {'title': '', 'text': ''},\n",
       " {'title': 'Better infrastructure has put remote Indian villages on tourist map: PM Modi',\n",
       "  'text': 'March 03, 2023 11:10 am | Updated March 04, 2023 01:09 am IST - New Delhi\\n\\nPrime Minister Narendra Modi on Friday said better infrastructure has put remote Indian villages on the tourist map as has redevelopment of religious centers like Varanasi’s Kashi Vishwanath Temple.\\n\\nAddressing a post-Budget webinar on the subject of ‘Developing Tourism in Mission Mode’, Mr. Modi said it was a myth that tourism is a fancy word associated only with the high-income groups of the country.\\n\\nHe noted that ‘yatras’ have been a part of India’s cultural and social life for centuries and people used to go on pilgrimages even when there were no resources available to them and gave the example of Char Dham Yatra, Dwadash Jyotirling Yatra and 51 Shaktipeeth Yatra.\\n\\nThe Prime Minister said that these places had been neglected over the years due to hundreds of years of slavery and the political neglect in the decades after Independence.\\n\\n“The India of today is changing this situation”, he said noting that the increase in facilities leads to an increase in attraction among the tourists.\\n\\nMr. Modi gave the example of Kashi Vishwanath Dham in Varanasi and said that around 80 lakh people used to visit the temple in a year before it was rebuilt, but the tourist footfall crossed 7 crore last year after the renovation. He also mentioned that 15 lakh devotees have visited Kedarnath Temple compared to only 4-5 lakh before the completion of reconstruction work in Kedarghati.\\n\\nAlso read | PM Modi pitches for the development of new cities and modernisation of urban infrastructure\\n\\nThe Prime Minister underlined that India’s tourism sector can grow manifold with increase in civic amenities, good digital connectivity, good hotels and hospitals and excellent infrastructure. He gave the example of Indian villages.\\n\\n“Our villages are becoming centers of tourism”, the Prime Minister remarked as he underlined that remote villages are now coming up on the tourism map due to their improving infrastructure. The Central government has started the Vibrant Village Scheme for the villages situated along the border, he said emphasising the need to support businesses such as homestays, small hotels and restaurants.\\n\\nHe said India needs to think out of the box and plan ahead to take tourism to new heights. Throwing light on the parameters for the development of a tourist destination, Mr. Modi listed the potential of the place, ease of travelling to the destination and new ways to promote the destination.\\n\\n“Every tourist destination can also develop its own revenue model”, he said.\\n\\nPTI adds:\\n\\nThe webinar is part of a series of 12 post-budget webinars being organised by the government to seek ideas and suggestions for effective implementation of the initiatives announced in the Union Budget.\\n\\nThe Union Budget has stated that promotion of tourism will be taken up in mission mode, with active participation of states, convergence of government programmes and public-private partnerships.\\n\\nIf civic amenities are increased, there is good digital connectivity, good hotels and hospitals, and cleanliness, India\\'s tourism sector can grow manifold, he said.\\n\\nThe Prime Minister said wedding destinations are a big business now, and this has a huge potential in India.\\n\\n\"We should develop at least 50 tourist destinations which will appear on the list for tourists whenever they think of visiting India,\" he added.'},\n",
       " {'title': 'Avoid antibiotics for seasonal cold and cough, says Indian Medical Association amid rising cases',\n",
       "  'text': 'March 04, 2023 11:34 am | Updated 01:02 pm IST\\n\\nIn response to the rising cases of cough, cold and nausea across the country, the Indian Medical Association (IMA) has advised against an indiscriminate use of antibiotics like Azithromycin and Amoxiclav to alleviate symptoms.\\n\\nThe IMA noted that most cases of seasonal cold and cough — resulting in nausea, sore throat, fever, body ache and diarrhoea in some cases — currently being reported are due to the H3N2 influenza virus. While the fever should last up to three days, the cough can continue for three weeks. Viral cases have also surged due to air pollution, they noted.\\n\\nIndian Council of Medical Research (ICMR) scientists have also said Influenza A subtype H3N2 is responsible for the persistent cough, sometimes accompanied by fever, in India for the past two months, reported PTI. The H3N2 subtype notably causes more hospitalisation than other variants.\\n\\nAntibiotics for seasonal colds are ineffective; their overuse and misuse can result in antibiotic resistance which can make bacterial infections a public health threat. There is a trend where physicians prescribe antibiotics despite patients not exhibiting relevant symptoms, the IMA said.\\n\\nFever cases on rise - Avoid Antibiotics pic.twitter.com/WYvXX70iho — Indian Medical Association (@IMAIndiaOrg) March 3, 2023\\n\\n“Right now, people start taking antibiotics like Azithromycin and Amoxiclav etc, that too without caring for done and frequency and stop it once start feeling better. This needs to be stopped as it leads to antibiotic resistance. Whenever there will be a real use of antibiotics, they will not work due to the resistance,” IMA said in a statement.\\n\\nInstead, physicians should practice “self-control” and “regulation”, and apply medical therapy that affects the symptoms in question. Good hand and respiratory hygiene, avoiding crowded places and taking vaccines is further recommended by the IMA.\\n\\n“It is necessary to diagnose whether the infection is bacterial or not before prescribing antibiotics,” the association noted.\\n\\nALSO READ | Overuse of antibiotics, not completing medicine course harmful: doctors\\n\\n“It is necessary to diagnose whether the infection is bacterial or not before prescribing antibiotics,” the association noted.\\n\\nThey took the example of azithromycin and ivermectin usage during COVID-19 to allude to the pitfalls of over-prescribing antibiotics without sufficient evidence.\\n\\nAntibiotics sale soared during the pandemic in India, where they where frequently being used to treat symptoms like cold and cough, according to a 2021 research led by Washington University School of Medicine in St. Louis.\\n\\n“Antibiotic resistance is one of the greatest threats to global public health,” said the study’s senior author, infectious diseases specialist Sumanth Gandra, MD, an associate professor of medicine and an associate hospital epidemiologist at Barnes-Jewish Hospital. “Overuse of antibiotics lessens their ability to effectively treat minor injuries and common infections such as pneumonia, which means that these conditions can become serious and deadly. Bacteria that have become resistant to antibiotics don’t have boundaries. They can spread to any person in any country.”\\n\\nA 2019 study also found that AMR is estimated to cause 10 million deaths annually by 2050.\\n\\nIndia’s antibiotic consumption is a worrying trend among health practitioners and activists. Globally, India tops the list of countries with the highest antibiotic consumption, and the highest antimicrobial resistance (AMR) cases. A study published in The Lancet Regional Health—Southeast Asia found the prevalence of a high volume of broad-spectrum antibiotics, such as Azithromycin, and unapproved formulation of drugs.\\n\\nKey factors that have allowed unabated usage of antibiotics include lack of awareness among patients and practitioners, unrestricted drug manufacturing, and tepid regulations around antibiotic production and distribution, researchers have previously said.'}]"
      ]
     },
     "execution_count": 27,
     "metadata": {},
     "output_type": "execute_result"
    }
   ],
   "source": [
    "news_list = articles\n",
    "keywords_dict = {\n",
    "    'atm': ['any time money', 'automatic teller machine'],\n",
    "    'Machine Learning' : ['ml', 'ai'],\n",
    "    'theft': ['robbery', 'steal', 'larceny'],\n",
    "    'party': ['political', 'bjp', 'congress']\n",
    "}  \n",
    "news_list"
   ]
  },
  {
   "cell_type": "code",
   "execution_count": 28,
   "metadata": {},
   "outputs": [],
   "source": [
    "\n",
    "def removePunctuations(news_list):\n",
    "    for i in range(len(news_list)):\n",
    "        news_text = news_list[i]['text']\n",
    "        news_list[i]['text'] = re.sub(r'[^\\w\\s]', '', news_text)\n",
    "        news_title = news_list[i]['title']\n",
    "        news_list[i]['title'] = re.sub(r'[^\\w\\s]', '', news_title)\n",
    "    \n",
    "    return news_list"
   ]
  },
  {
   "cell_type": "code",
   "execution_count": 29,
   "metadata": {},
   "outputs": [],
   "source": [
    "heading_priority = 10\n",
    "content_priority = 8\n",
    "\n",
    "priority = list(np.arange(len(keywords_dict))[::-1]+1)\n"
   ]
  },
  {
   "cell_type": "code",
   "execution_count": 30,
   "metadata": {},
   "outputs": [],
   "source": [
    "def getScore(words, content_type):\n",
    "    score = 0\n",
    "    frequency_map = {}\n",
    "    for keyword in keywords_dict:\n",
    "        frequency_map[keyword] = 0\n",
    "\n",
    "    for i in range(len(words)):\n",
    "        for j in range(len(keywords_dict)):\n",
    "            # keyword = list(keywords_dict.keys())[j]\n",
    "            # lis = [keyword]+keywords_dict[keyword]\n",
    "            for synonym in keywords_list[j]:\n",
    "                #print(keywords_list)\n",
    "                if len(synonym.split(' ')) < 2:\n",
    "                    if words[i].lower() == synonym.lower():\n",
    "                        frequency_map[keywords_list[j][0]] = min(threshold, frequency_map[keywords_list[j][0]] + 1)\n",
    "                else:\n",
    "                    l = 0\n",
    "                    index = i\n",
    "                    while(l < len(synonym.split(' ')) and words[i].lower() == synonym.split(' ')[l].lower()):\n",
    "                        i += 1\n",
    "                        l += 1\n",
    "                    if(l == len(synonym.split(' '))):\n",
    "                        frequency_map[keywords_list[j][0]] = min(threshold, frequency_map[keywords_list[j][0]] + 1)\n",
    "                    else:\n",
    "                        i = index \n",
    "    \n",
    "    index = 0\n",
    "    for val in frequency_map.values():\n",
    "        score += priority[index]*val\n",
    "        index += 1\n",
    "    #score += priority_score*sum(list(frequency_map.values()))\n",
    "    if content_type == 'heading_priority':\n",
    "        score += heading_priority*score\n",
    "    else:\n",
    "        score += content_priority*score\n",
    "    print(frequency_map)\n",
    "    return score"
   ]
  },
  {
   "cell_type": "code",
   "execution_count": 31,
   "metadata": {},
   "outputs": [
    {
     "name": "stdout",
     "output_type": "stream",
     "text": [
      "{'atm': 0, 'Machine Learning': 10, 'theft': 0, 'party': 0}\n"
     ]
    },
    {
     "ename": "IndexError",
     "evalue": "list index out of range",
     "output_type": "error",
     "traceback": [
      "\u001b[1;31m---------------------------------------------------------------------------\u001b[0m",
      "\u001b[1;31mIndexError\u001b[0m                                Traceback (most recent call last)",
      "Cell \u001b[1;32mIn[31], line 13\u001b[0m\n\u001b[0;32m     11\u001b[0m     score \u001b[39m=\u001b[39m \u001b[39m0\u001b[39m\n\u001b[0;32m     12\u001b[0m     score \u001b[39m+\u001b[39m\u001b[39m=\u001b[39m getScore(news[\u001b[39m'\u001b[39m\u001b[39mtext\u001b[39m\u001b[39m'\u001b[39m]\u001b[39m.\u001b[39msplit(\u001b[39m'\u001b[39m\u001b[39m \u001b[39m\u001b[39m'\u001b[39m), \u001b[39m'\u001b[39m\u001b[39mcontent_priority\u001b[39m\u001b[39m'\u001b[39m)\n\u001b[1;32m---> 13\u001b[0m     score \u001b[39m+\u001b[39m\u001b[39m=\u001b[39m getScore(news[\u001b[39m'\u001b[39;49m\u001b[39mtitle\u001b[39;49m\u001b[39m'\u001b[39;49m]\u001b[39m.\u001b[39;49msplit(\u001b[39m'\u001b[39;49m\u001b[39m \u001b[39;49m\u001b[39m'\u001b[39;49m), \u001b[39m'\u001b[39;49m\u001b[39mheading_priority\u001b[39;49m\u001b[39m'\u001b[39;49m)   \n\u001b[0;32m     14\u001b[0m     news_scores\u001b[39m.\u001b[39mappend(score)\n\u001b[0;32m     16\u001b[0m index \u001b[39m=\u001b[39m news_scores\u001b[39m.\u001b[39mindex(\u001b[39mmax\u001b[39m(news_scores))\n",
      "Cell \u001b[1;32mIn[30], line 14\u001b[0m, in \u001b[0;36mgetScore\u001b[1;34m(words, content_type)\u001b[0m\n\u001b[0;32m     11\u001b[0m \u001b[39mfor\u001b[39;00m synonym \u001b[39min\u001b[39;00m keywords_list[j]:\n\u001b[0;32m     12\u001b[0m     \u001b[39m#print(keywords_list)\u001b[39;00m\n\u001b[0;32m     13\u001b[0m     \u001b[39mif\u001b[39;00m \u001b[39mlen\u001b[39m(synonym\u001b[39m.\u001b[39msplit(\u001b[39m'\u001b[39m\u001b[39m \u001b[39m\u001b[39m'\u001b[39m)) \u001b[39m<\u001b[39m \u001b[39m2\u001b[39m:\n\u001b[1;32m---> 14\u001b[0m         \u001b[39mif\u001b[39;00m words[i]\u001b[39m.\u001b[39mlower() \u001b[39m==\u001b[39m synonym\u001b[39m.\u001b[39mlower():\n\u001b[0;32m     15\u001b[0m             frequency_map[keywords_list[j][\u001b[39m0\u001b[39m]] \u001b[39m=\u001b[39m \u001b[39mmin\u001b[39m(threshold, frequency_map[keywords_list[j][\u001b[39m0\u001b[39m]] \u001b[39m+\u001b[39m \u001b[39m1\u001b[39m)\n\u001b[0;32m     16\u001b[0m     \u001b[39melse\u001b[39;00m:\n",
      "\u001b[1;31mIndexError\u001b[0m: list index out of range"
     ]
    }
   ],
   "source": [
    "news_list = removePunctuations(news_list)\n",
    "keywords_list = []\n",
    "news_scores = []\n",
    "threshold = 10\n",
    "\n",
    "for j in range(len(keywords_dict)):\n",
    "    keyword = list(keywords_dict.keys())[j]\n",
    "    keywords_list.append([keyword]+keywords_dict[keyword])\n",
    "    \n",
    "for news in news_list:\n",
    "    score = 0\n",
    "    score += getScore(news['text'].split(' '), 'content_priority')\n",
    "    score += getScore(news['title'].split(' '), 'heading_priority')   \n",
    "    news_scores.append(score)\n",
    "\n",
    "index = news_scores.index(max(news_scores))\n",
    "# print(news_scores)\n",
    "news_list[index]"
   ]
  }
 ],
 "metadata": {
  "kernelspec": {
   "display_name": "Python 3",
   "language": "python",
   "name": "python3"
  },
  "language_info": {
   "codemirror_mode": {
    "name": "ipython",
    "version": 3
   },
   "file_extension": ".py",
   "mimetype": "text/x-python",
   "name": "python",
   "nbconvert_exporter": "python",
   "pygments_lexer": "ipython3",
   "version": "3.11.1"
  },
  "orig_nbformat": 4,
  "vscode": {
   "interpreter": {
    "hash": "6491bbd3c7861498ceca5f810ff495ca48eaaad8857aa8ae48a42dff31e5d8e0"
   }
  }
 },
 "nbformat": 4,
 "nbformat_minor": 2
}
